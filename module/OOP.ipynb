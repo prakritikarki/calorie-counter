{
 "cells": [
  {
   "cell_type": "code",
   "execution_count": 5,
   "metadata": {},
   "outputs": [
    {
     "ename": "SyntaxError",
     "evalue": "invalid syntax. Perhaps you forgot a comma? (191400024.py, line 4)",
     "output_type": "error",
     "traceback": [
      "\u001b[1;36m  Cell \u001b[1;32mIn[5], line 4\u001b[1;36m\u001b[0m\n\u001b[1;33m    with open(\"with open(\"C:\\\\Users\\\\User\\\\OneDrive\\\\Desktop\\\\prakriti\\\\git\\\\calorie-counter\\\\module\\\\data\\\\combos.json\") as file:\u001b[0m\n\u001b[1;37m              ^\u001b[0m\n\u001b[1;31mSyntaxError\u001b[0m\u001b[1;31m:\u001b[0m invalid syntax. Perhaps you forgot a comma?\n"
     ]
    }
   ],
   "source": [
    "from datetime import datetime\n",
    "import json\n",
    "\n",
    "with open(\"C:\\\\Users\\\\User\\\\OneDrive\\\\Desktop\\\\prakriti\\\\git\\\\calorie-counter\\\\module\\\\data\\\\combos.json\") as file:\n",
    "\tcombos = json.load(file)[\"combos\"]\n",
    "\t\n",
    "# combos_info = {\n",
    "#     combo[\"id\"]:combo\n",
    "#     for combo in combos\n",
    "# }\n",
    "# print (combos_info)\n",
    "\n",
    "with open(\"C:\\\\Users\\\\User\\\\OneDrive\\\\Desktop\\\\prakriti\\\\git\\\\calorie-counter\\\\module\\\\data\\\\meals.json\") as f:\n",
    "\tmeals = json.load(f)[\"meals\"]\n",
    "class Order:\n",
    "    counter = 0\n",
    "\n",
    "# meals_info = {\n",
    "#     meal[\"id\"]:meal\n",
    "#     for meal in meals}\n",
    "\n",
    "# print(meals_info)\n",
    "\n",
    "def __init__(self, items, date=None):\n",
    "        self.order_id = f\"order-{Order.counter + 1}\"\n",
    "        Order.counter += 1\n",
    "        self.date = date if date else datetime.now()\n",
    "        self.items = items\n",
    "        self.order_accepted = None\n",
    "        self.order_refused_reason = None\n",
    "\n",
    "@property\n",
    "def calories(self):\n",
    "    total_calories = sum(meal['calories'] for item in self.items if (meal := meals_info.get(item)) is not None)\n",
    "    return total_calories\n",
    "\n",
    "@property\n",
    "def price(self):\n",
    "    total_price = sum(meal['price'] for item in self.items if (meal := meals_info.get(item)) is not None)\n",
    "    return total_price\n",
    "\n",
    "def validate_items(self):\n",
    "    for item in self.items:\n",
    "        if item not in meals_info and item not in combos_info:\n",
    "            self.order_accepted = False\n",
    "            self.order_refused_reason = f\"Unknown item: {item}\"\n",
    "            return\n",
    "    self.order_accepted = True\n",
    "    self.order_refused_reason = None\n",
    "\n",
    "\n",
    "order1 = Order([\"meal-2\", \"combo-2\", \"meal-5\"])\n",
    "order1.validate_items()\n",
    "print(f\"Order ID: {order1.order_id}\")\n",
    "print(f\"Date: {order1.date}\")\n",
    "print(f\"Items: {order1.items}\")\n",
    "print(f\"Total Calories: {order1.calories}\")\n",
    "print(f\"Total Price: ${order1.price}\")\n",
    "if order1.order_accepted:\n",
    "    print(\"Order Accepted\")\n",
    "else:\n",
    "    print(f\"Order Refused: {order1.order_refused_reason}\")\n"
   ]
  }
 ],
 "metadata": {
  "kernelspec": {
   "display_name": "Python 3",
   "language": "python",
   "name": "python3"
  },
  "language_info": {
   "codemirror_mode": {
    "name": "ipython",
    "version": 3
   },
   "file_extension": ".py",
   "mimetype": "text/x-python",
   "name": "python",
   "nbconvert_exporter": "python",
   "pygments_lexer": "ipython3",
   "version": "3.11.5"
  }
 },
 "nbformat": 4,
 "nbformat_minor": 2
}
